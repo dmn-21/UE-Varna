{
 "cells": [
  {
   "cell_type": "code",
   "execution_count": 7,
   "id": "1fc4d9f9-1077-49dc-82dd-95ff3f2006f2",
   "metadata": {},
   "outputs": [
    {
     "name": "stdin",
     "output_type": "stream",
     "text": [
      "Въведете сума без ДДС:  220\n"
     ]
    },
    {
     "name": "stdout",
     "output_type": "stream",
     "text": [
      "Сума на ДДС: 44.00 лв. Сума с ДДС: 264.00 лв.\n"
     ]
    }
   ],
   "source": [
    "sum = float(input('Въведете сума без ДДС: '))\n",
    "\n",
    "print(f'Сума на ДДС: {sum * 0.2:.2f} лв. Сума с ДДС: {sum * 1.2:.2f} лв.')"
   ]
  },
  {
   "cell_type": "code",
   "execution_count": 16,
   "id": "99efef7e-748f-42fb-b849-72d750d72aff",
   "metadata": {},
   "outputs": [
    {
     "name": "stdin",
     "output_type": "stream",
     "text": [
      "Въведете година:  2001\n",
      "Въведете сума:  9850\n"
     ]
    },
    {
     "name": "stdout",
     "output_type": "stream",
     "text": [
      "Крайна сума: 9372.50 лв\n"
     ]
    }
   ],
   "source": [
    "year = int(input('Въведете година: '))\n",
    "sum = float(input('Въведете сума: '))\n",
    "\n",
    "if 2010 <= year <= 2024:\n",
    "    sum *= 0.95\n",
    "elif 2000 <= year <= 2009:\n",
    "    sum *= 0.85\n",
    "elif 1980 <= year <= 1999:\n",
    "    sum *= 0.75\n",
    "\n",
    "print(f'Крайна сума: {sum + 1000 :.2f} лв')"
   ]
  },
  {
   "cell_type": "code",
   "execution_count": 30,
   "id": "4aecaf71-a429-4d10-aebb-03afd8134e9d",
   "metadata": {},
   "outputs": [
    {
     "name": "stdin",
     "output_type": "stream",
     "text": [
      " 1\n"
     ]
    },
    {
     "name": "stdout",
     "output_type": "stream",
     "text": [
      "Студено\n"
     ]
    },
    {
     "name": "stdin",
     "output_type": "stream",
     "text": [
      " 2\n"
     ]
    },
    {
     "name": "stdout",
     "output_type": "stream",
     "text": [
      "Студено\n"
     ]
    },
    {
     "name": "stdin",
     "output_type": "stream",
     "text": [
      " 3\n"
     ]
    },
    {
     "name": "stdout",
     "output_type": "stream",
     "text": [
      "Студено\n"
     ]
    },
    {
     "name": "stdin",
     "output_type": "stream",
     "text": [
      " 4\n"
     ]
    },
    {
     "name": "stdout",
     "output_type": "stream",
     "text": [
      "Студено\n"
     ]
    },
    {
     "name": "stdin",
     "output_type": "stream",
     "text": [
      " 5\n"
     ]
    },
    {
     "name": "stdout",
     "output_type": "stream",
     "text": [
      "Студено\n"
     ]
    },
    {
     "name": "stdin",
     "output_type": "stream",
     "text": [
      " 6\n"
     ]
    },
    {
     "name": "stdout",
     "output_type": "stream",
     "text": [
      "Студено\n"
     ]
    },
    {
     "name": "stdin",
     "output_type": "stream",
     "text": [
      " 7\n"
     ]
    },
    {
     "name": "stdout",
     "output_type": "stream",
     "text": [
      "Студено\n"
     ]
    },
    {
     "name": "stdin",
     "output_type": "stream",
     "text": [
      " 8\n"
     ]
    },
    {
     "name": "stdout",
     "output_type": "stream",
     "text": [
      "Студено\n"
     ]
    },
    {
     "name": "stdin",
     "output_type": "stream",
     "text": [
      " 9\n"
     ]
    },
    {
     "name": "stdout",
     "output_type": "stream",
     "text": [
      "Студено\n"
     ]
    },
    {
     "name": "stdin",
     "output_type": "stream",
     "text": [
      " 9\n"
     ]
    },
    {
     "name": "stdout",
     "output_type": "stream",
     "text": [
      "Студено\n"
     ]
    }
   ],
   "source": [
    "num = int(43)\n",
    "\n",
    "for i in range(0, 10):\n",
    "    n = int(input())\n",
    "    if n == num:\n",
    "        print('Познахте!')\n",
    "    elif num-5 <= n <= num+5:\n",
    "        print('Топло')\n",
    "    else:\n",
    "        print('Студено')"
   ]
  },
  {
   "cell_type": "code",
   "execution_count": 43,
   "id": "189f6e3d-f0dd-4fb4-9d5b-38f6a4003f50",
   "metadata": {},
   "outputs": [
    {
     "name": "stdin",
     "output_type": "stream",
     "text": [
      " 3\n"
     ]
    },
    {
     "name": "stdout",
     "output_type": "stream",
     "text": [
      "Confirmed\n"
     ]
    }
   ],
   "source": [
    "dic = {\n",
    "    1: 'Canceled',\n",
    "    2: 'Pending',\n",
    "    3: 'Confirmed',\n",
    "    4: 'Expired'\n",
    "}\n",
    "\n",
    "n = int(input())\n",
    "\n",
    "if n in dic:\n",
    "    print(dic[n])\n",
    "else: \n",
    "    print('Not found')"
   ]
  },
  {
   "cell_type": "code",
   "execution_count": 52,
   "id": "47c1465e-8370-487b-bd3f-fd4437a72701",
   "metadata": {},
   "outputs": [
    {
     "name": "stdin",
     "output_type": "stream",
     "text": [
      " плащане на ток и вода за месец септември 2025 за ап.9\n",
      "Въведете платежна система:  3\n"
     ]
    },
    {
     "name": "stdout",
     "output_type": "stream",
     "text": [
      "плащане на ток и вода за месец септ\n"
     ]
    }
   ],
   "source": [
    "text = input()\n",
    "n = int(input('Въведете платежна система: '))\n",
    "\n",
    "if n == 1:\n",
    "    print(text[0:70])\n",
    "elif n == 2 or n == 3:\n",
    "    print(text[0:35])\n",
    "else:\n",
    "    print(text)"
   ]
  }
 ],
 "metadata": {
  "kernelspec": {
   "display_name": "Python 3 (ipykernel)",
   "language": "python",
   "name": "python3"
  },
  "language_info": {
   "codemirror_mode": {
    "name": "ipython",
    "version": 3
   },
   "file_extension": ".py",
   "mimetype": "text/x-python",
   "name": "python",
   "nbconvert_exporter": "python",
   "pygments_lexer": "ipython3",
   "version": "3.11.7"
  }
 },
 "nbformat": 4,
 "nbformat_minor": 5
}
