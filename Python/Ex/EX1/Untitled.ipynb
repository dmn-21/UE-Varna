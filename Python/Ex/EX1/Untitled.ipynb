{
 "cells": [
  {
   "cell_type": "code",
   "execution_count": 13,
   "id": "ea886413-7552-4aec-9d50-3ccb8f825dcb",
   "metadata": {},
   "outputs": [
    {
     "name": "stdin",
     "output_type": "stream",
     "text": [
      " Removes all the elements from the dictionary\n",
      "Дума за премахване:  for\n"
     ]
    },
    {
     "name": "stdout",
     "output_type": "stream",
     "text": [
      "Removes all the elements from the dictionary\n"
     ]
    }
   ],
   "source": [
    "def func(txt, str):\n",
    "    x = txt.replace(str, '')\n",
    "    print(x)\n",
    "\n",
    "txt = input()\n",
    "str = input('Дума за премахване: ')\n",
    "func(txt, str)"
   ]
  },
  {
   "cell_type": "code",
   "execution_count": 16,
   "id": "d4a62031-bbe0-4108-9fba-f47ef60f685d",
   "metadata": {},
   "outputs": [
    {
     "name": "stdin",
     "output_type": "stream",
     "text": [
      " 67\n"
     ]
    },
    {
     "name": "stdout",
     "output_type": "stream",
     "text": [
      "Невалидна платежна система.\n"
     ]
    }
   ],
   "source": [
    "dic = {\n",
    "    1: 'BISERA6',\n",
    "    2: 'RINGS',\n",
    "    3: 'Blink',\n",
    "    4: 'SWIFT',\n",
    "    5: 'BISERA7'\n",
    "}\n",
    "\n",
    "n = int(input())\n",
    "\n",
    "if n in dic:\n",
    "    print(f'Платежната система е {dic[n]}')\n",
    "else: \n",
    "    print('Невалидна платежна система.')"
   ]
  },
  {
   "cell_type": "code",
   "execution_count": null,
   "id": "65d45e1d-9541-4ea4-a518-16b640421318",
   "metadata": {},
   "outputs": [],
   "source": [
    "while True:\n",
    "    years = int(input('Въведете години: '))\n",
    "    id = input('Въведете ЕГН: ')\n",
    "\n",
    "    if years < 10:\n",
    "        print(\"Годините трябва са са над 10!\")\n",
    "    elif not id.isdigit():\n",
    "        print('Въведете цифри!')\n",
    "    elif not len(id) == 10:\n",
    "        print('Въведете 10 цифри!')\n",
    "    else:\n",
    "        print('Успешна регистрация')\n",
    "        break"
   ]
  },
  {
   "cell_type": "code",
   "execution_count": 19,
   "id": "897e3f82-6b33-4ca6-bb04-66cbe206c71e",
   "metadata": {},
   "outputs": [
    {
     "name": "stdin",
     "output_type": "stream",
     "text": [
      " 2021\n"
     ]
    },
    {
     "name": "stdout",
     "output_type": "stream",
     "text": [
      "no\n"
     ]
    }
   ],
   "source": [
    "year = int(input())\n",
    "\n",
    "if year % 400 == 0 and year % 100 == 0:\n",
    "    print('yes')\n",
    "elif year % 4 ==0 and year % 100 != 0:\n",
    "    print('yes')\n",
    "else:\n",
    "    print('no')"
   ]
  },
  {
   "cell_type": "code",
   "execution_count": 22,
   "id": "740ebc7b-1647-4652-8378-478c34fa345c",
   "metadata": {},
   "outputs": [
    {
     "name": "stdin",
     "output_type": "stream",
     "text": [
      "Въведете заплата:  12500\n"
     ]
    },
    {
     "name": "stdout",
     "output_type": "stream",
     "text": [
      "Нетна заплата : 10250.00 лв. Платен данък: 2250.00 лв.\n"
     ]
    }
   ],
   "source": [
    "bruto = float(input('Въведете заплата: '))\n",
    "neto = bruto\n",
    "\n",
    "if bruto <= 2000:\n",
    "    neto *= 0.90\n",
    "elif bruto <= 6000:\n",
    "    neto *= 0.85\n",
    "else:\n",
    "    neto *= 0.82\n",
    "\n",
    "if bruto <= 0:\n",
    "    print('Грешна стойност')\n",
    "else:\n",
    "    print(f'Нетна заплата : {neto:.2f} лв. Платен данък: {bruto-neto:.2f} лв.')"
   ]
  },
  {
   "cell_type": "code",
   "execution_count": 2,
   "id": "22407ce4-929a-40bb-a796-bb56ee5b0bfd",
   "metadata": {},
   "outputs": [
    {
     "name": "stdin",
     "output_type": "stream",
     "text": [
      "Въведете заплата:  12500\n"
     ]
    },
    {
     "name": "stdout",
     "output_type": "stream",
     "text": [
      "Нетна заплата : 10250.00 лв. Платен данък: 2250.00 лв.\n"
     ]
    }
   ],
   "source": [
    "bruto = float(input('Въведете заплата: '))\n",
    "neto = bruto\n",
    "\n",
    "if bruto <= 2000:\n",
    "    neto *= 0.90\n",
    "elif bruto <= 6000:\n",
    "    neto *= 0.85\n",
    "else:\n",
    "    neto *= 0.82\n",
    "\n",
    "if bruto <= 0:\n",
    "    print('Грешна стойност')\n",
    "else:\n",
    "    print(f'Нетна заплата : {neto:.2f} лв. Платен данък: {bruto-neto:.2f} лв.')"
   ]
  },
  {
   "cell_type": "code",
   "execution_count": 4,
   "id": "5a8ad1cf-b6da-4c8d-ac79-c8b201b3882a",
   "metadata": {},
   "outputs": [
    {
     "name": "stdin",
     "output_type": "stream",
     "text": [
      " 2021\n"
     ]
    },
    {
     "name": "stdout",
     "output_type": "stream",
     "text": [
      "no\n"
     ]
    }
   ],
   "source": [
    "year = int(input())\n",
    "\n",
    "if year % 400 == 0 and year % 100 == 0:\n",
    "    print('yes')\n",
    "elif year % 4 ==0 and year % 100 != 0:\n",
    "    print('yes')\n",
    "else:\n",
    "    print('no')"
   ]
  },
  {
   "cell_type": "code",
   "execution_count": 7,
   "id": "b27dd895-5a52-4e49-87a0-7fc4ae05739a",
   "metadata": {},
   "outputs": [
    {
     "name": "stdin",
     "output_type": "stream",
     "text": [
      " 67\n"
     ]
    },
    {
     "name": "stdout",
     "output_type": "stream",
     "text": [
      "Невалидна платежна система.\n"
     ]
    }
   ],
   "source": [
    "dic = {\n",
    "    1: 'BISERA6',\n",
    "    2: 'RINGS',\n",
    "    3: 'Blink',\n",
    "    4: 'SWIFT',\n",
    "    5: 'BISERA7'\n",
    "}\n",
    "\n",
    "n = int(input())\n",
    "\n",
    "if n in dic:\n",
    "    print(f'Платежната система е {dic[n]}')\n",
    "else: \n",
    "    print('Невалидна платежна система.')"
   ]
  },
  {
   "cell_type": "code",
   "execution_count": 10,
   "id": "267f3eaa-6d78-415d-ac9c-ba8964e4168e",
   "metadata": {},
   "outputs": [
    {
     "name": "stdin",
     "output_type": "stream",
     "text": [
      "Въведете години:  10\n",
      "Въведете ЕГН:  fff\n"
     ]
    },
    {
     "name": "stdout",
     "output_type": "stream",
     "text": [
      "Въведете цифри!\n"
     ]
    },
    {
     "name": "stdin",
     "output_type": "stream",
     "text": [
      "Въведете години:  111\n",
      "Въведете ЕГН:  111\n"
     ]
    },
    {
     "name": "stdout",
     "output_type": "stream",
     "text": [
      "Въведете 10 цифри!\n"
     ]
    },
    {
     "name": "stdin",
     "output_type": "stream",
     "text": [
      "Въведете години:  11\n",
      "Въведете ЕГН:  111\n"
     ]
    },
    {
     "name": "stdout",
     "output_type": "stream",
     "text": [
      "Въведете 10 цифри!\n"
     ]
    },
    {
     "name": "stdin",
     "output_type": "stream",
     "text": [
      "Въведете години:  11\n",
      "Въведете ЕГН:  1111111111\n"
     ]
    },
    {
     "name": "stdout",
     "output_type": "stream",
     "text": [
      "Успешна регистрация\n"
     ]
    }
   ],
   "source": [
    "while True:\n",
    "    years = int(input('Въведете години: '))\n",
    "    id = input('Въведете ЕГН: ')\n",
    "\n",
    "    if years < 10:\n",
    "        print(\"Годините трябва са са над 10!\")\n",
    "    elif not id.isdigit():\n",
    "        print('Въведете цифри!')\n",
    "    elif not len(id) == 10:\n",
    "        print('Въведете 10 цифри!')\n",
    "    else:\n",
    "        print('Успешна регистрация')\n",
    "        break"
   ]
  },
  {
   "cell_type": "code",
   "execution_count": 12,
   "id": "8d71bac5-1919-4cd7-a953-a47b047b6486",
   "metadata": {},
   "outputs": [
    {
     "name": "stdin",
     "output_type": "stream",
     "text": [
      " All string methods returns new values. They do not change the original string.\n",
      "Дума за премахване:  string\n"
     ]
    },
    {
     "name": "stdout",
     "output_type": "stream",
     "text": [
      "All  methods returns new values. They do not change the original .\n"
     ]
    }
   ],
   "source": [
    "def func(txt, str):\n",
    "    x = txt.replace(str, '')\n",
    "    print(x)\n",
    "\n",
    "txt = input()\n",
    "str = input('Дума за премахване: ')\n",
    "func(txt, str)"
   ]
  },
  {
   "cell_type": "code",
   "execution_count": null,
   "id": "17e0ba84-9911-435e-b98b-8f0e8b223f90",
   "metadata": {},
   "outputs": [],
   "source": []
  }
 ],
 "metadata": {
  "kernelspec": {
   "display_name": "Python 3 (ipykernel)",
   "language": "python",
   "name": "python3"
  },
  "language_info": {
   "codemirror_mode": {
    "name": "ipython",
    "version": 3
   },
   "file_extension": ".py",
   "mimetype": "text/x-python",
   "name": "python",
   "nbconvert_exporter": "python",
   "pygments_lexer": "ipython3",
   "version": "3.11.7"
  }
 },
 "nbformat": 4,
 "nbformat_minor": 5
}
