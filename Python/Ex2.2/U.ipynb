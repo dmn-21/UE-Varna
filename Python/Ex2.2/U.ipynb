{
 "cells": [
  {
   "cell_type": "code",
   "execution_count": 41,
   "id": "806e232e-a286-4d7e-b8ee-031965db925d",
   "metadata": {},
   "outputs": [
    {
     "name": "stdout",
     "output_type": "stream",
     "text": [
      "Най-младият клиент е pavel petrov на 12 години.\n"
     ]
    }
   ],
   "source": [
    "# ЗАДАЧА 1\n",
    "oldest = (\"\", 0)\n",
    "last_age = 100\n",
    "\n",
    "with open('data.txt', 'r') as peoples_data:\n",
    "    for people in peoples_data:\n",
    "        curr_people = {}\n",
    "        name, age, id = people.split(';')\n",
    "        \n",
    "        curr_people['name'] = name\n",
    "        curr_people['age'] = age\n",
    "        curr_people['id'] = id\n",
    "\n",
    "        if int(age) < int(last_age):\n",
    "            last_age = age\n",
    "            oldest = (name, age)\n",
    "\n",
    "print(f\"Най-младият клиент е {oldest[0]} на {oldest[1]} години.\")"
   ]
  },
  {
   "cell_type": "code",
   "execution_count": 46,
   "id": "9fb47f63-145a-4110-aa05-3c9e233c10e4",
   "metadata": {},
   "outputs": [],
   "source": [
    "# ЗАДАЧА 2\n",
    "sorted_people = {}\n",
    "index=1 \n",
    "\n",
    "with open('data.txt', 'r') as peoples_data:\n",
    "    for people in peoples_data:\n",
    "        curr_people = {}\n",
    "        name, age, id = people.split(';')\n",
    "        \n",
    "        curr_people['name'] = name\n",
    "        curr_people['age'] = age\n",
    "        curr_people['id'] = id\n",
    "\n",
    "        sorted_people[index] = curr_people\n",
    "        index+=1\n",
    "\n",
    "sorted_file_path = 'sorted_data.txt'\n",
    "sorted_people = dict(sorted(sorted_people.items(), key=lambda x: x[1]['name'], reverse=False))\n",
    "\n",
    "with open(sorted_file_path, 'w') as sorted_file:\n",
    "    for index, person in sorted_people.items():\n",
    "        line = f\"{person['name']};{person['age']};{person['id']}\"\n",
    "        sorted_file.write(line)"
   ]
  },
  {
   "cell_type": "code",
   "execution_count": 47,
   "id": "f5014eb1-84b4-45de-ad78-b384ffdb71b9",
   "metadata": {},
   "outputs": [],
   "source": [
    "# ЗАДАЧА 3\n",
    "id = '0254796345'\n",
    "file_path = 'data.txt'\n",
    "\n",
    "with open(file_path, 'r') as file:\n",
    "    lines = file.readlines()\n",
    "\n",
    "with open(file_path, 'w') as file:\n",
    "    for line in lines:\n",
    "            _, _, id = line.strip().split(';')\n",
    "            if id != target_id:\n",
    "                file.write(line)"
   ]
  }
 ],
 "metadata": {
  "kernelspec": {
   "display_name": "Python 3 (ipykernel)",
   "language": "python",
   "name": "python3"
  },
  "language_info": {
   "codemirror_mode": {
    "name": "ipython",
    "version": 3
   },
   "file_extension": ".py",
   "mimetype": "text/x-python",
   "name": "python",
   "nbconvert_exporter": "python",
   "pygments_lexer": "ipython3",
   "version": "3.11.7"
  }
 },
 "nbformat": 4,
 "nbformat_minor": 5
}
