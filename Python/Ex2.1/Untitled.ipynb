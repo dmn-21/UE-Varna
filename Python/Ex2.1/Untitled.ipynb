{
 "cells": [
  {
   "cell_type": "code",
   "execution_count": 1,
   "id": "6e0fad6c-d4f5-4891-a3dc-22d53eadcf34",
   "metadata": {},
   "outputs": [
    {
     "name": "stdout",
     "output_type": "stream",
     "text": [
      "Най-възрастният клиент е nikol aleksandrova на 25 години.\n"
     ]
    }
   ],
   "source": [
    "# ЗАДАЧА 1\n",
    "oldest = (\"\", 0)\n",
    "last_age = 0\n",
    "\n",
    "with open('data.txt', 'r') as peoples_data:\n",
    "    for people in peoples_data:\n",
    "        curr_people = {}\n",
    "        name, age, id = people.split(', ')\n",
    "        \n",
    "        curr_people['name'] = name\n",
    "        curr_people['age'] = age\n",
    "        curr_people['id'] = id\n",
    "\n",
    "        if int(age) > int(last_age):\n",
    "            last_age = age\n",
    "            oldest = (name, age)\n",
    "\n",
    "\n",
    "print(f\"Най-възрастният клиент е {oldest[0]} на {oldest[1]} години.\")"
   ]
  },
  {
   "cell_type": "code",
   "execution_count": 2,
   "id": "180dddda-8e35-4d6d-9d92-05a0a9923e4d",
   "metadata": {},
   "outputs": [],
   "source": [
    "# ЗАДАЧА 2\n",
    "sorted_people = {}\n",
    "index=1 \n",
    "\n",
    "with open('data.txt', 'r') as peoples_data:\n",
    "    for people in peoples_data:\n",
    "        curr_people = {}\n",
    "        name, age, id = people.split(', ')\n",
    "        \n",
    "        curr_people['name'] = name\n",
    "        curr_people['age'] = age\n",
    "        curr_people['id'] = id\n",
    "\n",
    "        sorted_people[index] = curr_people\n",
    "        index+=1\n",
    "\n",
    "sorted_file_path = 'sorted_data.txt'\n",
    "sorted_people = dict(sorted(sorted_people.items(), key=lambda x: x[1]['age'], reverse=True))\n",
    "\n",
    "with open(sorted_file_path, 'w') as sorted_file:\n",
    "    for index, person in sorted_people.items():\n",
    "        line = f\"{person['name']}, {person['age']}, {person['id']}\"\n",
    "        sorted_file.write(line)"
   ]
  },
  {
   "cell_type": "code",
   "execution_count": 3,
   "id": "8b78a39d-1b11-46ba-bcec-ad101b781b64",
   "metadata": {},
   "outputs": [],
   "source": [
    "# ЗАДАЧА 3\n",
    "target_id = '0254796345'  # ЕГН на клиента, който искаме да изтрием\n",
    "file_path = 'data.txt'    # Път към файла\n",
    "\n",
    "# Променлива за съхраняване на данните на целевия клиент\n",
    "extracted_client = None\n",
    "\n",
    "# Четене на данните от файла\n",
    "with open(file_path, 'r') as file:\n",
    "    lines = file.readlines()\n",
    "\n",
    "# Запис на нови данни без целевия клиент\n",
    "with open(file_path, 'w') as file:\n",
    "    for line in lines:\n",
    "        if line.strip():  # Пропускане на празни редове\n",
    "            name, age, id = line.strip().split(';')\n",
    "            if id == target_id:\n",
    "                extracted_client = {'name': name, 'age': age, 'id': id}  # Запазване на данните\n",
    "            else:\n",
    "                file.write(line)  # Писане на останалите редове обратно във файла\n",
    "\n",
    "# Проверка и отпечатване на резултата\n",
    "if extracted_client:\n",
    "    print(f\"Извлечени данни за клиента: {extracted_client}\")\n",
    "else:\n",
    "    print(f\"Клиент с ЕГН {target_id} не е намерен.\")\n"
   ]
  },
  {
   "cell_type": "code",
   "execution_count": null,
   "id": "2c939dd6-2dfe-42ec-8ff2-960da3185619",
   "metadata": {},
   "outputs": [],
   "source": []
  }
 ],
 "metadata": {
  "kernelspec": {
   "display_name": "Python 3 (ipykernel)",
   "language": "python",
   "name": "python3"
  },
  "language_info": {
   "codemirror_mode": {
    "name": "ipython",
    "version": 3
   },
   "file_extension": ".py",
   "mimetype": "text/x-python",
   "name": "python",
   "nbconvert_exporter": "python",
   "pygments_lexer": "ipython3",
   "version": "3.11.7"
  }
 },
 "nbformat": 4,
 "nbformat_minor": 5
}
