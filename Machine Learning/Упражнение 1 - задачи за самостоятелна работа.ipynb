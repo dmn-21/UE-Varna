{
 "cells": [
  {
   "cell_type": "markdown",
   "id": "8e212e48-b0a2-42e8-b63b-80ad844fe2da",
   "metadata": {},
   "source": [
    "<div class=\"alert alert-block alert-success\">\n",
    "    <b>Задачи за самостоятелна работа</b><br>\n",
    "    </div>*Изпълнете зададените условия като използвате подходящи оператори, функции и методи*"
   ]
  },
  {
   "cell_type": "code",
   "execution_count": 24,
   "id": "2726fd36-3d0c-4ce5-9936-1bddd52af43b",
   "metadata": {},
   "outputs": [],
   "source": [
    "import math"
   ]
  },
  {
   "cell_type": "markdown",
   "id": "825b724b",
   "metadata": {},
   "source": [
    "**Разделете текста 'Варна е морската столица на България' на думи, които да са елементи в списък**"
   ]
  },
  {
   "cell_type": "code",
   "execution_count": 3,
   "id": "5135d79e",
   "metadata": {},
   "outputs": [
    {
     "name": "stdout",
     "output_type": "stream",
     "text": [
      "['Варна', 'е', 'морската', 'столица', 'на', 'България']\n"
     ]
    }
   ],
   "source": [
    "print('Варна е морската столица на България'.split())"
   ]
  },
  {
   "cell_type": "markdown",
   "id": "086fd44b",
   "metadata": {},
   "source": [
    "\n",
    "**С функции print и format изведете текст The capital of Germany is Berlin**"
   ]
  },
  {
   "cell_type": "code",
   "execution_count": 6,
   "id": "d3ec96c5",
   "metadata": {},
   "outputs": [
    {
     "name": "stdout",
     "output_type": "stream",
     "text": [
      "The capital of Germany is Berlin.\n"
     ]
    }
   ],
   "source": [
    "country='Germany'\n",
    "capital='Berlin'\n",
    "\n",
    "print(f'The capital of {country} is {capital}.')"
   ]
  },
  {
   "cell_type": "markdown",
   "id": "2c478ee2",
   "metadata": {},
   "source": [
    "**Като използвате подходящи индекси изведете 'hello'**"
   ]
  },
  {
   "cell_type": "code",
   "execution_count": 8,
   "id": "753c34d5",
   "metadata": {},
   "outputs": [
    {
     "name": "stdout",
     "output_type": "stream",
     "text": [
      "hello\n"
     ]
    }
   ],
   "source": [
    "lst = [1,2,[3,4],[5,[100,200,['hello']],23,11],1,7]\n",
    "print(lst[3][1][2][0])"
   ]
  },
  {
   "cell_type": "markdown",
   "id": "851e0f91",
   "metadata": {},
   "source": [
    "**Създайте функция getDomain, която да извлича домейн от имейл адрес.\n",
    "Например от user@gmail.com да връща gmail.com**"
   ]
  },
  {
   "cell_type": "code",
   "execution_count": 11,
   "id": "8ad89f92",
   "metadata": {},
   "outputs": [
    {
     "name": "stdout",
     "output_type": "stream",
     "text": [
      "gmail.com\n"
     ]
    }
   ],
   "source": [
    "def getDomain(domain):\n",
    "    return domain.split('@')[-1]\n",
    "\n",
    "print(getDomain(\"mail@gmail.com\"))"
   ]
  },
  {
   "cell_type": "markdown",
   "id": "c8442fda",
   "metadata": {},
   "source": [
    "**Като използвате lambda и filter създайте списък само с думите от seq, които започват с s** </br>\n",
    "Първият символ от текст е с индекс 0"
   ]
  },
  {
   "cell_type": "code",
   "execution_count": 13,
   "id": "9cbf0e73",
   "metadata": {},
   "outputs": [],
   "source": [
    "seq = ['soup','dog','salad','cat','great']"
   ]
  },
  {
   "cell_type": "code",
   "execution_count": 14,
   "id": "89b56c04",
   "metadata": {},
   "outputs": [
    {
     "name": "stdout",
     "output_type": "stream",
     "text": [
      "['soup', 'salad']\n"
     ]
    }
   ],
   "source": [
    "words = list(filter(lambda word: word[0] == 's', seq))\n",
    "print(words)"
   ]
  },
  {
   "cell_type": "markdown",
   "id": "99c08d8b",
   "metadata": {},
   "source": [
    "**Създайте функция solve_eq за решаване на квадратни уравнения от вида a*x^2+b*x+c=0. a,b и c да се задават като параметри на функцията.**\n",
    "Ако дискриминантата D = b**2-4*a*c e: \n",
    "\n",
    "- по-малка от 0, то уравнението няма реални корени\n",
    "- равна на 0, то уравнението има един двоен корен =(-b/(2*a))\n",
    "- по-голяма от 0, то уравнението има два корена: x1=(-b-math.sqrt(D))/(2*a) и x1=(-b+math.sqrt(D))/(2*a)\n",
    "\n",
    "За намиране на корен квадратен използваме функция math.sqrt() от модул math. Това изисква импортиране на модула с `import math`\n",
    "\n",
    "Подходящи формати за placeholders са {:+} за коефициентите a,b,c и {:.4f} за корените"
   ]
  },
  {
   "cell_type": "code",
   "execution_count": 21,
   "id": "43865a8a",
   "metadata": {},
   "outputs": [],
   "source": [
    "import math\n",
    "\n",
    "def solve_eq(a, b, c):\n",
    "    D = b**2 - 4*a*c\n",
    "    \n",
    "    if D < 0:\n",
    "        print('Уравнението няма реални корени.')\n",
    "    elif D == 0:\n",
    "        x = -b / (2 * a)\n",
    "        print(f'Уравнението има един двоен корен: x = {x:.4f}')\n",
    "    else:\n",
    "        x1 = (-b - math.sqrt(D)) / (2 * a)\n",
    "        x2 = (-b + math.sqrt(D)) / (2 * a)\n",
    "        print(f'Уравнението има два корена: x₁ = {x1:.4f}, x₂ = {x2:.4f}')"
   ]
  },
  {
   "cell_type": "markdown",
   "id": "e7419da2",
   "metadata": {},
   "source": [
    "**Приложете функцията за решаване на квадратно уравнение върху списъка от кортежи t**. Броят на елементите в списък се извежда с функция **`len()`**"
   ]
  },
  {
   "cell_type": "code",
   "execution_count": 27,
   "id": "ad056dac",
   "metadata": {},
   "outputs": [
    {
     "name": "stdout",
     "output_type": "stream",
     "text": [
      "Уравнението няма реални корени.\n",
      "Уравнението няма реални корени.\n",
      "Уравнението има два корена: x₁ = 0.9114, x₂ = -0.4114\n",
      "Уравнението има един двоен корен: x = 4.0000\n"
     ]
    }
   ],
   "source": [
    "t=[(1,2,3),(5,-9,7),(-8,4,3),(1,-8,16)]\n",
    "\n",
    "for coeff in t:\n",
    "    solve_eq(*coeff)"
   ]
  },
  {
   "cell_type": "code",
   "execution_count": null,
   "id": "1222d395-c6d2-48c2-bd5f-4198533090aa",
   "metadata": {},
   "outputs": [],
   "source": []
  }
 ],
 "metadata": {
  "kernelspec": {
   "display_name": "Python 3 (ipykernel)",
   "language": "python",
   "name": "python3"
  },
  "language_info": {
   "codemirror_mode": {
    "name": "ipython",
    "version": 3
   },
   "file_extension": ".py",
   "mimetype": "text/x-python",
   "name": "python",
   "nbconvert_exporter": "python",
   "pygments_lexer": "ipython3",
   "version": "3.11.7"
  }
 },
 "nbformat": 4,
 "nbformat_minor": 5
}
