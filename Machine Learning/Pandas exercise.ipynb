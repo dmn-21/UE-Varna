{
 "cells": [
  {
   "cell_type": "markdown",
   "id": "6de03b23-0a9a-4da0-92db-4eff178c318c",
   "metadata": {},
   "source": [
    "---\n",
    "# Pandas - упражнение част 1\n",
    "---"
   ]
  },
  {
   "cell_type": "code",
   "execution_count": 1,
   "id": "f29f4380-79cb-4e27-97a8-21281b852814",
   "metadata": {},
   "outputs": [],
   "source": [
    "# Импортирайте numpy и pandas\n",
    "import numpy as np\n",
    "import pandas as pd"
   ]
  },
  {
   "cell_type": "markdown",
   "id": "37861353-2bd5-4e3b-bacb-1c27d82b5ff2",
   "metadata": {},
   "source": [
    "### Създайте масив `qtrs` с тримесечия - от Q1 до Q4"
   ]
  },
  {
   "cell_type": "code",
   "execution_count": 2,
   "id": "b614fdf8-cf76-423d-a754-dccb8e3a6dc0",
   "metadata": {},
   "outputs": [
    {
     "name": "stdout",
     "output_type": "stream",
     "text": [
      "['Q1' 'Q2' 'Q3' 'Q4']\n"
     ]
    },
    {
     "data": {
      "text/plain": [
       "array(['Q1', 'Q2', 'Q3', 'Q4'], dtype='<U2')"
      ]
     },
     "execution_count": 2,
     "metadata": {},
     "output_type": "execute_result"
    }
   ],
   "source": [
    "# Създаване на масив с тримесечия\n",
    "qtrs = np.array(['Q1', 'Q2', 'Q3', 'Q4'])\n",
    "\n",
    "# Извеждане на масива\n",
    "print(qtrs)\n",
    "qtrs"
   ]
  },
  {
   "cell_type": "markdown",
   "id": "268d2604-5a7c-40d6-99ee-d2c5aaadd591",
   "metadata": {},
   "source": [
    "### Създайте масив `yrs` с години - от 2019 до 2022"
   ]
  },
  {
   "cell_type": "code",
   "execution_count": 3,
   "id": "69d00330-89ba-45fc-b323-13d488ae8b70",
   "metadata": {},
   "outputs": [
    {
     "name": "stdout",
     "output_type": "stream",
     "text": [
      "['2019' '2020' '2021' '2022']\n"
     ]
    },
    {
     "data": {
      "text/plain": [
       "array(['2019', '2020', '2021', '2022'], dtype='<U4')"
      ]
     },
     "execution_count": 3,
     "metadata": {},
     "output_type": "execute_result"
    }
   ],
   "source": [
    "yrs=np.array(['2019','2020','2021','2022'])\n",
    "print(yrs)\n",
    "yrs"
   ]
  },
  {
   "cell_type": "markdown",
   "id": "8e01798a-f8ce-459a-a627-ea0821b94a56",
   "metadata": {},
   "source": [
    "### Създайте Python списък `index`, получен като слепване (+) от yrs и qtrs "
   ]
  },
  {
   "cell_type": "code",
   "execution_count": 4,
   "id": "e3d61f43-5f66-4f92-9a44-7419cbe90ca9",
   "metadata": {},
   "outputs": [
    {
     "data": {
      "text/plain": [
       "['2019-Q1',\n",
       " '2019-Q2',\n",
       " '2019-Q3',\n",
       " '2019-Q4',\n",
       " '2020-Q1',\n",
       " '2020-Q2',\n",
       " '2020-Q3',\n",
       " '2020-Q4',\n",
       " '2021-Q1',\n",
       " '2021-Q2',\n",
       " '2021-Q3',\n",
       " '2021-Q4',\n",
       " '2022-Q1',\n",
       " '2022-Q2',\n",
       " '2022-Q3',\n",
       " '2022-Q4']"
      ]
     },
     "execution_count": 4,
     "metadata": {},
     "output_type": "execute_result"
    }
   ],
   "source": [
    "# Дадени списъци\n",
    "qtrs = np.array(['Q1', 'Q2', 'Q3', 'Q4'])\n",
    "yrs=np.array(['2019','2020','2021','2022'])\n",
    "\n",
    "# Създаване на Python списък index с вложен for цикъл\n",
    "index = []\n",
    "\n",
    "for yr in yrs:\n",
    "    for qtr in qtrs:\n",
    "        index.append(str(yr) + \"-\" + qtr)\n",
    "\n",
    "index"
   ]
  },
  {
   "cell_type": "code",
   "execution_count": 5,
   "id": "6b6b1042-100a-4ba4-a006-809d3566da2f",
   "metadata": {},
   "outputs": [
    {
     "data": {
      "text/plain": [
       "['2019-Q1',\n",
       " '2019-Q2',\n",
       " '2019-Q3',\n",
       " '2019-Q4',\n",
       " '2020-Q1',\n",
       " '2020-Q2',\n",
       " '2020-Q3',\n",
       " '2020-Q4',\n",
       " '2021-Q1',\n",
       " '2021-Q2',\n",
       " '2021-Q3',\n",
       " '2021-Q4',\n",
       " '2022-Q1',\n",
       " '2022-Q2',\n",
       " '2022-Q3',\n",
       " '2022-Q4']"
      ]
     },
     "execution_count": 5,
     "metadata": {},
     "output_type": "execute_result"
    }
   ],
   "source": [
    "index"
   ]
  },
  {
   "cell_type": "markdown",
   "id": "09ffc788-af97-4f38-9f6e-39757af5e225",
   "metadata": {},
   "source": [
    "### Генерирайте Numpy масив `columns` с имена на градове Varna Plovdiv Sofia Burgas"
   ]
  },
  {
   "cell_type": "code",
   "execution_count": 6,
   "id": "31c7c9e4-c6a6-4c08-9cf6-9ddd4a6acd8e",
   "metadata": {},
   "outputs": [
    {
     "data": {
      "text/plain": [
       "array(['Varna', 'Plovdiv', 'Sofia', 'Burgas'], dtype='<U7')"
      ]
     },
     "execution_count": 6,
     "metadata": {},
     "output_type": "execute_result"
    }
   ],
   "source": [
    "columns=np.array(['Varna', 'Plovdiv', 'Sofia', 'Burgas'])\n",
    "columns"
   ]
  },
  {
   "cell_type": "markdown",
   "id": "fcb6da50-a0eb-43f7-94ab-0ed05211802e",
   "metadata": {},
   "source": [
    "### Генерирайте Numpy матрица `data` с размери (16,4) с произволни цели числа от 200 до 800"
   ]
  },
  {
   "cell_type": "code",
   "execution_count": 7,
   "id": "de5c86ac-3c3f-40a6-a687-dac0d560e473",
   "metadata": {},
   "outputs": [
    {
     "data": {
      "text/plain": [
       "array([[237, 435, 272, 344],\n",
       "       [329, 783, 708, 590],\n",
       "       [481, 378, 476, 454],\n",
       "       [557, 668, 452, 690],\n",
       "       [598, 762, 780, 415],\n",
       "       [703, 678, 286, 341],\n",
       "       [593, 207, 519, 734],\n",
       "       [513, 713, 516, 409],\n",
       "       [464, 631, 656, 742],\n",
       "       [271, 587, 654, 761],\n",
       "       [513, 715, 697, 243],\n",
       "       [788, 226, 536, 497],\n",
       "       [666, 215, 264, 396],\n",
       "       [225, 567, 671, 482],\n",
       "       [222, 326, 479, 581],\n",
       "       [556, 355, 513, 795]])"
      ]
     },
     "execution_count": 7,
     "metadata": {},
     "output_type": "execute_result"
    }
   ],
   "source": [
    "# Използвайте seed=1\n",
    "np.random.seed(1)\n",
    "data = np.random.randint(200,800, size=64).reshape(16,4)\n",
    "data"
   ]
  },
  {
   "cell_type": "markdown",
   "id": "fc430848-3fce-4ae3-ae37-1dcf6c9ee125",
   "metadata": {},
   "source": [
    "### Създайте DataFrame `sales` с data, index, columns"
   ]
  },
  {
   "cell_type": "code",
   "execution_count": 8,
   "id": "da9b5662-8b62-41a9-b098-fc44bcc19547",
   "metadata": {},
   "outputs": [
    {
     "name": "stdout",
     "output_type": "stream",
     "text": [
      "         Varna  Plovdiv  Sofia  Burgas\n",
      "2019-Q1    237      435    272     344\n",
      "2019-Q2    329      783    708     590\n",
      "2019-Q3    481      378    476     454\n",
      "2019-Q4    557      668    452     690\n",
      "2020-Q1    598      762    780     415\n",
      "2020-Q2    703      678    286     341\n",
      "2020-Q3    593      207    519     734\n",
      "2020-Q4    513      713    516     409\n",
      "2021-Q1    464      631    656     742\n",
      "2021-Q2    271      587    654     761\n",
      "2021-Q3    513      715    697     243\n",
      "2021-Q4    788      226    536     497\n",
      "2022-Q1    666      215    264     396\n",
      "2022-Q2    225      567    671     482\n",
      "2022-Q3    222      326    479     581\n",
      "2022-Q4    556      355    513     795\n"
     ]
    }
   ],
   "source": [
    "# Задаване на seed за повторяемост на случайни числа\n",
    "np.random.seed(1)\n",
    "\n",
    "# Генериране на данни\n",
    "data = np.random.randint(200, 800, size=64).reshape(16, 4)\n",
    "\n",
    "# Дефиниране на индекс и колони\n",
    "qtrs = np.array(['Q1', 'Q2', 'Q3', 'Q4'])\n",
    "yrs = np.array(['2019', '2020', '2021', '2022'])\n",
    "index = [f\"{yr}-{qtr}\" for yr in yrs for qtr in qtrs]\n",
    "columns = np.array(['Varna', 'Plovdiv', 'Sofia', 'Burgas'])\n",
    "\n",
    "# Създаване на DataFrame\n",
    "sales = pd.DataFrame(data, index=index, columns=columns)\n",
    "\n",
    "# Извеждане на DataFrame\n",
    "print(sales)"
   ]
  },
  {
   "cell_type": "code",
   "execution_count": 9,
   "id": "504de994-b38c-4aa1-a42d-cd898ee26e42",
   "metadata": {},
   "outputs": [
    {
     "data": {
      "text/html": [
       "<div>\n",
       "<style scoped>\n",
       "    .dataframe tbody tr th:only-of-type {\n",
       "        vertical-align: middle;\n",
       "    }\n",
       "\n",
       "    .dataframe tbody tr th {\n",
       "        vertical-align: top;\n",
       "    }\n",
       "\n",
       "    .dataframe thead th {\n",
       "        text-align: right;\n",
       "    }\n",
       "</style>\n",
       "<table border=\"1\" class=\"dataframe\">\n",
       "  <thead>\n",
       "    <tr style=\"text-align: right;\">\n",
       "      <th></th>\n",
       "      <th>Varna</th>\n",
       "      <th>Plovdiv</th>\n",
       "      <th>Sofia</th>\n",
       "      <th>Burgas</th>\n",
       "    </tr>\n",
       "  </thead>\n",
       "  <tbody>\n",
       "    <tr>\n",
       "      <th>2019-Q1</th>\n",
       "      <td>237</td>\n",
       "      <td>435</td>\n",
       "      <td>272</td>\n",
       "      <td>344</td>\n",
       "    </tr>\n",
       "    <tr>\n",
       "      <th>2019-Q2</th>\n",
       "      <td>329</td>\n",
       "      <td>783</td>\n",
       "      <td>708</td>\n",
       "      <td>590</td>\n",
       "    </tr>\n",
       "    <tr>\n",
       "      <th>2019-Q3</th>\n",
       "      <td>481</td>\n",
       "      <td>378</td>\n",
       "      <td>476</td>\n",
       "      <td>454</td>\n",
       "    </tr>\n",
       "    <tr>\n",
       "      <th>2019-Q4</th>\n",
       "      <td>557</td>\n",
       "      <td>668</td>\n",
       "      <td>452</td>\n",
       "      <td>690</td>\n",
       "    </tr>\n",
       "    <tr>\n",
       "      <th>2020-Q1</th>\n",
       "      <td>598</td>\n",
       "      <td>762</td>\n",
       "      <td>780</td>\n",
       "      <td>415</td>\n",
       "    </tr>\n",
       "    <tr>\n",
       "      <th>2020-Q2</th>\n",
       "      <td>703</td>\n",
       "      <td>678</td>\n",
       "      <td>286</td>\n",
       "      <td>341</td>\n",
       "    </tr>\n",
       "    <tr>\n",
       "      <th>2020-Q3</th>\n",
       "      <td>593</td>\n",
       "      <td>207</td>\n",
       "      <td>519</td>\n",
       "      <td>734</td>\n",
       "    </tr>\n",
       "    <tr>\n",
       "      <th>2020-Q4</th>\n",
       "      <td>513</td>\n",
       "      <td>713</td>\n",
       "      <td>516</td>\n",
       "      <td>409</td>\n",
       "    </tr>\n",
       "    <tr>\n",
       "      <th>2021-Q1</th>\n",
       "      <td>464</td>\n",
       "      <td>631</td>\n",
       "      <td>656</td>\n",
       "      <td>742</td>\n",
       "    </tr>\n",
       "    <tr>\n",
       "      <th>2021-Q2</th>\n",
       "      <td>271</td>\n",
       "      <td>587</td>\n",
       "      <td>654</td>\n",
       "      <td>761</td>\n",
       "    </tr>\n",
       "    <tr>\n",
       "      <th>2021-Q3</th>\n",
       "      <td>513</td>\n",
       "      <td>715</td>\n",
       "      <td>697</td>\n",
       "      <td>243</td>\n",
       "    </tr>\n",
       "    <tr>\n",
       "      <th>2021-Q4</th>\n",
       "      <td>788</td>\n",
       "      <td>226</td>\n",
       "      <td>536</td>\n",
       "      <td>497</td>\n",
       "    </tr>\n",
       "    <tr>\n",
       "      <th>2022-Q1</th>\n",
       "      <td>666</td>\n",
       "      <td>215</td>\n",
       "      <td>264</td>\n",
       "      <td>396</td>\n",
       "    </tr>\n",
       "    <tr>\n",
       "      <th>2022-Q2</th>\n",
       "      <td>225</td>\n",
       "      <td>567</td>\n",
       "      <td>671</td>\n",
       "      <td>482</td>\n",
       "    </tr>\n",
       "    <tr>\n",
       "      <th>2022-Q3</th>\n",
       "      <td>222</td>\n",
       "      <td>326</td>\n",
       "      <td>479</td>\n",
       "      <td>581</td>\n",
       "    </tr>\n",
       "    <tr>\n",
       "      <th>2022-Q4</th>\n",
       "      <td>556</td>\n",
       "      <td>355</td>\n",
       "      <td>513</td>\n",
       "      <td>795</td>\n",
       "    </tr>\n",
       "  </tbody>\n",
       "</table>\n",
       "</div>"
      ],
      "text/plain": [
       "         Varna  Plovdiv  Sofia  Burgas\n",
       "2019-Q1    237      435    272     344\n",
       "2019-Q2    329      783    708     590\n",
       "2019-Q3    481      378    476     454\n",
       "2019-Q4    557      668    452     690\n",
       "2020-Q1    598      762    780     415\n",
       "2020-Q2    703      678    286     341\n",
       "2020-Q3    593      207    519     734\n",
       "2020-Q4    513      713    516     409\n",
       "2021-Q1    464      631    656     742\n",
       "2021-Q2    271      587    654     761\n",
       "2021-Q3    513      715    697     243\n",
       "2021-Q4    788      226    536     497\n",
       "2022-Q1    666      215    264     396\n",
       "2022-Q2    225      567    671     482\n",
       "2022-Q3    222      326    479     581\n",
       "2022-Q4    556      355    513     795"
      ]
     },
     "execution_count": 9,
     "metadata": {},
     "output_type": "execute_result"
    }
   ],
   "source": [
    "sales"
   ]
  },
  {
   "cell_type": "code",
   "execution_count": 10,
   "id": "d187ee4f-0e87-42c1-9ef9-d795ccb3099f",
   "metadata": {},
   "outputs": [
    {
     "name": "stdout",
     "output_type": "stream",
     "text": [
      "Продажби за Varna и Sofia:\n",
      "         Varna  Sofia\n",
      "2019-Q1    237    272\n",
      "2019-Q2    329    708\n",
      "2019-Q3    481    476\n",
      "2019-Q4    557    452\n",
      "2020-Q1    598    780\n",
      "2020-Q2    703    286\n",
      "2020-Q3    593    519\n",
      "2020-Q4    513    516\n",
      "2021-Q1    464    656\n",
      "2021-Q2    271    654\n",
      "2021-Q3    513    697\n",
      "2021-Q4    788    536\n",
      "2022-Q1    666    264\n",
      "2022-Q2    225    671\n",
      "2022-Q3    222    479\n",
      "2022-Q4    556    513\n"
     ]
    }
   ],
   "source": [
    "# Изведете продажбите за Varna и Sofia\n",
    "# Извеждане на продажбите за Varna и Sofia\n",
    "sales_varna_sofia = sales.loc[:, ['Varna', 'Sofia']]\n",
    "\n",
    "print(\"Продажби за Varna и Sofia:\")\n",
    "print(sales_varna_sofia)"
   ]
  },
  {
   "cell_type": "code",
   "execution_count": 11,
   "id": "30d8a461-7484-4105-adcc-adade2c96e5c",
   "metadata": {},
   "outputs": [
    {
     "name": "stdout",
     "output_type": "stream",
     "text": [
      "Varna      237\n",
      "Plovdiv    435\n",
      "Sofia      272\n",
      "Burgas     344\n",
      "Name: 2019-Q1, dtype: int32\n"
     ]
    }
   ],
   "source": [
    "# Продажбите за 2019-Q1\n",
    "sales_2019_Q1 = sales.loc['2019-Q1', :]\n",
    "print(sales_2019_Q1)\n"
   ]
  },
  {
   "cell_type": "code",
   "execution_count": 12,
   "id": "423996e5-0921-4194-af21-e6c5627cf316",
   "metadata": {},
   "outputs": [
    {
     "name": "stdout",
     "output_type": "stream",
     "text": [
      "         Varna  Plovdiv  Sofia  Burgas\n",
      "2019-Q1    237      435    272     344\n",
      "2019-Q2    329      783    708     590\n",
      "2019-Q3    481      378    476     454\n",
      "2019-Q4    557      668    452     690\n"
     ]
    }
   ],
   "source": [
    "# Продажбите за 2019\n",
    "sales_2019 = sales.loc[['2019-Q1', '2019-Q2', '2019-Q3', '2019-Q4'], :]\n",
    "print(sales_2019)"
   ]
  },
  {
   "cell_type": "code",
   "execution_count": 13,
   "id": "6dee67c6-c38f-4429-9960-ecda4396cf72",
   "metadata": {},
   "outputs": [
    {
     "name": "stdout",
     "output_type": "stream",
     "text": [
      "         Varna  Plovdiv  Sofia  Burgas\n",
      "2019-Q1    237      435    272     344\n",
      "2020-Q1    598      762    780     415\n",
      "2021-Q1    464      631    656     742\n",
      "2022-Q1    666      215    264     396\n"
     ]
    }
   ],
   "source": [
    "# Продажбите за Q1 от всяка година\n",
    "sales_Q1= sales.loc[['2019-Q1', '2020-Q1', '2021-Q1', '2022-Q1'], :]\n",
    "print(sales_Q1)\n"
   ]
  },
  {
   "cell_type": "markdown",
   "id": "24b7561a-5a79-4b95-acc9-a56b013f5d4c",
   "metadata": {},
   "source": [
    "### Максимална стойност на продажбите"
   ]
  },
  {
   "cell_type": "code",
   "execution_count": 14,
   "id": "042f2fd3-fc01-4354-9d7e-fc52c08058ca",
   "metadata": {},
   "outputs": [
    {
     "name": "stdout",
     "output_type": "stream",
     "text": [
      "Максимални продажби за всички градове:\n",
      "Varna      788\n",
      "Plovdiv    783\n",
      "Sofia      780\n",
      "Burgas     795\n",
      "dtype: int32\n",
      "Максимална продажба за целия период: 795\n"
     ]
    }
   ],
   "source": [
    "# Изведете максималните продажби за периода за всички градове\n",
    "max_sales_all_cities = sales.max()\n",
    "\n",
    "print(\"Максимални продажби за всички градове:\")\n",
    "print(max_sales_all_cities)\n",
    "\n",
    "\n",
    "# Извличане на максималната продажба за целия период\n",
    "max_sales_period = sales.max().max()\n",
    "print(\"Максимална продажба за целия период:\", max_sales_period)"
   ]
  },
  {
   "cell_type": "code",
   "execution_count": 15,
   "id": "94a67d8a-02dc-4e08-bce7-185d4fad8b0c",
   "metadata": {},
   "outputs": [],
   "source": [
    "# Изведете показания текст"
   ]
  },
  {
   "cell_type": "code",
   "execution_count": null,
   "id": "ec7bc387-98eb-4616-ba91-dc850a90782e",
   "metadata": {},
   "outputs": [],
   "source": []
  },
  {
   "cell_type": "code",
   "execution_count": 16,
   "id": "66d66624-ecce-43f4-95db-5960ae744cfb",
   "metadata": {},
   "outputs": [
    {
     "name": "stdout",
     "output_type": "stream",
     "text": [
      "Максимална продажба: 795 лв. през 2022-Q4 в Burgas\n"
     ]
    }
   ],
   "source": [
    "# Намиране на индекса (град и тримесечие) на максималната продажба\n",
    "max_sale_index = sales.stack().idxmax()\n",
    "# Извличане на стойността (максималната продажба)\n",
    "max_sale_value = sales.loc[max_sale_index]\n",
    "\n",
    "print(f\"Максимална продажба: {max_sale_value} лв. през {max_sale_index[0]} в {max_sale_index[1]}\")"
   ]
  },
  {
   "cell_type": "code",
   "execution_count": null,
   "id": "31d0414e",
   "metadata": {},
   "outputs": [],
   "source": []
  },
  {
   "cell_type": "code",
   "execution_count": null,
   "id": "55d4652f",
   "metadata": {},
   "outputs": [],
   "source": []
  }
 ],
 "metadata": {
  "kernelspec": {
   "display_name": "Python 3 (ipykernel)",
   "language": "python",
   "name": "python3"
  },
  "language_info": {
   "codemirror_mode": {
    "name": "ipython",
    "version": 3
   },
   "file_extension": ".py",
   "mimetype": "text/x-python",
   "name": "python",
   "nbconvert_exporter": "python",
   "pygments_lexer": "ipython3",
   "version": "3.11.7"
  }
 },
 "nbformat": 4,
 "nbformat_minor": 5
}
