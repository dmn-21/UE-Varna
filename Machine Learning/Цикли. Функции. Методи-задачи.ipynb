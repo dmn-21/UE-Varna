{
 "cells": [
  {
   "cell_type": "markdown",
   "id": "6649b121",
   "metadata": {},
   "source": [
    "# IF, ELIF, ELSE\n",
    "\n",
    "`За дефиниране на обхвата на кода в Python се използват отстъпи в началото на реда.`\n"
   ]
  },
  {
   "cell_type": "markdown",
   "id": "4eff9577",
   "metadata": {},
   "source": [
    "## Задача 1. Да се дефинират 2 променливи и да се направи проверка за равенство на техните стойности."
   ]
  },
  {
   "cell_type": "code",
   "execution_count": 1,
   "id": "8627aa79",
   "metadata": {},
   "outputs": [
    {
     "name": "stdout",
     "output_type": "stream",
     "text": [
      "a=b\n"
     ]
    }
   ],
   "source": [
    "a=20\n",
    "b=20\n",
    "if(a==b):\n",
    "    print('a=b')\n"
   ]
  },
  {
   "cell_type": "code",
   "execution_count": 2,
   "id": "378dfbc8",
   "metadata": {},
   "outputs": [
    {
     "name": "stdout",
     "output_type": "stream",
     "text": [
      "a=b\n"
     ]
    }
   ],
   "source": [
    "if(a==b):\n",
    "    print('a=b')\n",
    "else:\n",
    "    print('a<>b')"
   ]
  },
  {
   "cell_type": "code",
   "execution_count": 3,
   "id": "74117ff8",
   "metadata": {},
   "outputs": [
    {
     "name": "stdout",
     "output_type": "stream",
     "text": [
      "a=b\n"
     ]
    }
   ],
   "source": [
    "if(a==b):\n",
    "    print('a=b')\n",
    "elif(a>b):\n",
    "    print('a>b')\n",
    "else:\n",
    "    print('a<b')"
   ]
  },
  {
   "cell_type": "markdown",
   "id": "aba7bd50",
   "metadata": {},
   "source": [
    "## Задача 2. Да се направи проверка за съдържанието на две променливи, като:\n",
    "### Ако weather='sunny' и day='weekday', да се извежда 'Go for a walk!'\n",
    "### Ако weather='sunny' и day='weekend', да се извежда 'Go on a trip!'\n",
    "### Ако weather не е 'sunny' да се извежда 'Read a book!'"
   ]
  },
  {
   "cell_type": "code",
   "execution_count": 4,
   "id": "e3a8ace0",
   "metadata": {},
   "outputs": [
    {
     "name": "stdout",
     "output_type": "stream",
     "text": [
      "Go for a walk!\n",
      "Go on a trip!\n"
     ]
    }
   ],
   "source": [
    "weather='sunny'\n",
    "day='weekday'\n",
    "\n",
    "# Ако weather='sunny' и day='weekday', да се извежда 'Go for a walk!'\n",
    "# Ако weather='sunny' и day='weekend', да се извежда 'Go on a trip!'\n",
    "# Ако weather не е 'sunny' да се извежда 'Read a book!'\n",
    "\n",
    "#Вариант 1 - директна проверка\n",
    "if(weather != 'sunny'):\n",
    "    print('Read a book!')\n",
    "if(weather=='sunny' and day=='weekday'):\n",
    "    print('Go for a walk!')\n",
    "    print('Go on a trip!')\n",
    "\n",
    "        \n",
    "#Вариант 2 - с вложен if-else\n"
   ]
  },
  {
   "cell_type": "markdown",
   "id": "5122d87e",
   "metadata": {},
   "source": [
    "# for цикъл"
   ]
  },
  {
   "cell_type": "markdown",
   "id": "48a71037",
   "metadata": {},
   "source": [
    "### Имаме следния масив seq:"
   ]
  },
  {
   "cell_type": "code",
   "execution_count": 5,
   "id": "17d54d3c",
   "metadata": {},
   "outputs": [],
   "source": [
    "seq=[1,2,3,4,5,6]"
   ]
  },
  {
   "cell_type": "markdown",
   "id": "6e2bc6b0",
   "metadata": {},
   "source": [
    "## Задача 3. Да се изведат числата (елементите) от масива seq едно под друго"
   ]
  },
  {
   "cell_type": "code",
   "execution_count": 6,
   "id": "8b37108c",
   "metadata": {},
   "outputs": [
    {
     "name": "stdout",
     "output_type": "stream",
     "text": [
      "1\n",
      "2\n",
      "3\n",
      "4\n",
      "5\n",
      "6\n"
     ]
    }
   ],
   "source": [
    "for x in seq:\n",
    "    print(x)"
   ]
  },
  {
   "cell_type": "markdown",
   "id": "71cd54b8",
   "metadata": {},
   "source": [
    "## Задача 4. Да се изведат четните числа от масива seq"
   ]
  },
  {
   "cell_type": "code",
   "execution_count": 7,
   "id": "1dbeb8ac",
   "metadata": {
    "scrolled": true
   },
   "outputs": [
    {
     "name": "stdout",
     "output_type": "stream",
     "text": [
      "2\n",
      "4\n",
      "6\n"
     ]
    }
   ],
   "source": [
    "for x in seq:\n",
    "    if (x % 2 == 0):\n",
    "        print(x)"
   ]
  },
  {
   "cell_type": "markdown",
   "id": "e3be0945",
   "metadata": {},
   "source": [
    "### Имаме следния масив nums:"
   ]
  },
  {
   "cell_type": "code",
   "execution_count": 8,
   "id": "cc355670",
   "metadata": {},
   "outputs": [],
   "source": [
    "nums=[10,-3,0,-10,-20,5]"
   ]
  },
  {
   "cell_type": "markdown",
   "id": "d9a6c865",
   "metadata": {},
   "source": [
    "## Задача 5. Да се извежда дали всяко число от nums е положително, 0 или отрицателно"
   ]
  },
  {
   "cell_type": "code",
   "execution_count": 9,
   "id": "8df10e26",
   "metadata": {},
   "outputs": [
    {
     "name": "stdout",
     "output_type": "stream",
     "text": [
      "положително\n",
      "отрицателно\n",
      "0\n",
      "отрицателно\n",
      "отрицателно\n",
      "положително\n"
     ]
    }
   ],
   "source": [
    "for x in nums:\n",
    "    if (x==0):\n",
    "        print('0')\n",
    "    elif (x<0):\n",
    "        print('отрицателно')\n",
    "    else:\n",
    "        print('положително')"
   ]
  },
  {
   "cell_type": "markdown",
   "id": "ccc0a528",
   "metadata": {},
   "source": [
    "## Задача 6. Да се извежда дали всяко число от nums е четно, 0 или нечетно"
   ]
  },
  {
   "cell_type": "code",
   "execution_count": 10,
   "id": "a7c7bec4",
   "metadata": {},
   "outputs": [
    {
     "name": "stdout",
     "output_type": "stream",
     "text": [
      "Even\n",
      "Odd\n",
      "0\n",
      "Even\n",
      "Even\n",
      "Odd\n"
     ]
    }
   ],
   "source": [
    "for x in nums:\n",
    "    if (x==0):\n",
    "        print('0')\n",
    "    elif (x%2==0):\n",
    "        print('Even')\n",
    "    else:\n",
    "        print('Odd')"
   ]
  },
  {
   "cell_type": "markdown",
   "id": "b4caff48",
   "metadata": {},
   "source": [
    "# while цикъл\n",
    "\n",
    "**`изход от цикъл while или for става с break`**\n",
    "\n",
    "`continue прекъсва текущата итерация и преминава на следващата`"
   ]
  },
  {
   "cell_type": "markdown",
   "id": "fa0ce5f5",
   "metadata": {},
   "source": [
    "## Задача 7. Да се дефинира променлива i, която да започва от 1 и да завършва итерациите си, когато стане равна на 5. Да извежда равенството си в редица, където да се извежда стойността й на 1-ва, 2-ра и 3-та степен. Да се използва .format"
   ]
  },
  {
   "cell_type": "code",
   "execution_count": 11,
   "id": "05abe6ad",
   "metadata": {
    "scrolled": true
   },
   "outputs": [
    {
     "name": "stdout",
     "output_type": "stream",
     "text": [
      "i=0, i**2=0, i**3=0\n",
      "i=1, i**2=1, i**3=1\n",
      "i=2, i**2=4, i**3=8\n",
      "i=3, i**2=9, i**3=27\n",
      "i=4, i**2=16, i**3=64\n"
     ]
    }
   ],
   "source": [
    "i=1\n",
    "\n",
    "for i in range(5):\n",
    "    print('i={}, i**2={}, i**3={}' .format(i,i**2, i**3))\n",
    "    i+=1"
   ]
  },
  {
   "cell_type": "markdown",
   "id": "19a59d53",
   "metadata": {},
   "source": [
    "## Задача 8. Да се дефинира променлива i, която да започва от 1 и да завършва итерациите си, когато стане равна на 10. Да се изведат числата, които не се делят на 3."
   ]
  },
  {
   "cell_type": "code",
   "execution_count": 12,
   "id": "f142d366",
   "metadata": {},
   "outputs": [
    {
     "name": "stdout",
     "output_type": "stream",
     "text": [
      "1\n",
      "2\n",
      "4\n",
      "5\n",
      "7\n",
      "8\n",
      "10\n"
     ]
    }
   ],
   "source": [
    "i=1\n",
    "for i in range(11):\n",
    "    if i%3!=0:\n",
    "        print(i)\n",
    "    i+=1"
   ]
  },
  {
   "cell_type": "markdown",
   "id": "251ee80e",
   "metadata": {},
   "source": [
    "Обяснение:\n",
    "Променливата i се инициализира със стойност 1.\n",
    "След това започва while цикъл. Той ще продължи да се изпълнява докато i е по-малко или равно на 10.\n",
    "Вътре в цикъла се проверява условието: ако остатъкът от делението на i на 3 е равен на 0 (т.е., i се дели на 3 без остатък), цикълът се прекратява с break.\n",
    "Ако условието не е изпълнено (остатъкът от делението на i на 3 не е 0), се изпълнява print(i), което извежда стойността на i.\n",
    "След това стойността на i се увеличава с 1.\n",
    "Така че алгоритъмът работи по следния начин:\n",
    "\n",
    "На първата итерация: i е 1, тъй като 1 не се дели на 3 без остатък, програмата извежда 1. След това i се увеличава с 1.\n",
    "На втората итерация: i е 2, тъй като 2 не се дели на 3 без остатък, програмата извежда 2. След това i се увеличава с 1.\n",
    "На третата итерация: i е 3, тъй като 3 се дели на 3 без остатък, програмата прекратява цикъла с break.\n",
    "Така че резултатът от програмата ще бъде изведено 1 и 2."
   ]
  },
  {
   "cell_type": "markdown",
   "id": "4d9a7e6a",
   "metadata": {},
   "source": [
    "## Даден е следният списък persons"
   ]
  },
  {
   "cell_type": "code",
   "execution_count": 13,
   "id": "d6af739f",
   "metadata": {},
   "outputs": [],
   "source": [
    "persons=[('John', 31),('Adam',18),('Beth',40), ('Jane',28),('Gregory',10)]"
   ]
  },
  {
   "cell_type": "code",
   "execution_count": 14,
   "id": "3a36b3e4",
   "metadata": {},
   "outputs": [
    {
     "name": "stdout",
     "output_type": "stream",
     "text": [
      "5\n"
     ]
    }
   ],
   "source": [
    "# намиране броя на елементите в списъка\n",
    "print(len(persons))"
   ]
  },
  {
   "cell_type": "code",
   "execution_count": 48,
   "id": "f40f8bd6",
   "metadata": {},
   "outputs": [
    {
     "data": {
      "text/plain": [
       "('John', 31)"
      ]
     },
     "execution_count": 48,
     "metadata": {},
     "output_type": "execute_result"
    }
   ],
   "source": [
    "# Извеждане името на първия човек - John\n",
    "persons[0]"
   ]
  },
  {
   "cell_type": "markdown",
   "id": "24a35f95",
   "metadata": {
    "scrolled": false
   },
   "source": [
    "## Задача 8. За всеки tuple от списъка да се извежда име и навършени години"
   ]
  },
  {
   "cell_type": "code",
   "execution_count": 40,
   "id": "d6051fc7",
   "metadata": {},
   "outputs": [
    {
     "name": "stdout",
     "output_type": "stream",
     "text": [
      "('John', 31)\n",
      "('Adam', 18)\n",
      "('Beth', 40)\n",
      "('Jane', 28)\n",
      "('Gregory', 10)\n"
     ]
    }
   ],
   "source": [
    "# решение с while\n",
    "i=0\n",
    "while i < len(persons):\n",
    "  print(persons[i])\n",
    "  i += 1"
   ]
  },
  {
   "cell_type": "code",
   "execution_count": 17,
   "id": "1132eba0",
   "metadata": {},
   "outputs": [
    {
     "name": "stdout",
     "output_type": "stream",
     "text": [
      "('John', 31)\n",
      "('Adam', 18)\n",
      "('Beth', 40)\n",
      "('Jane', 28)\n",
      "('Gregory', 10)\n"
     ]
    }
   ],
   "source": [
    "# решение с for\n",
    "for person in persons:\n",
    "    print(person)"
   ]
  },
  {
   "cell_type": "markdown",
   "id": "ff20f4d8",
   "metadata": {},
   "source": [
    "## Задача 9. Ако годините са отрицателно число, да не се извежда нищо за този tuple"
   ]
  },
  {
   "cell_type": "code",
   "execution_count": null,
   "id": "0ae8e635",
   "metadata": {},
   "outputs": [],
   "source": []
  },
  {
   "cell_type": "code",
   "execution_count": 73,
   "id": "858d20c6",
   "metadata": {},
   "outputs": [
    {
     "name": "stdout",
     "output_type": "stream",
     "text": [
      "('John', 31)\n",
      "('Adam', 18)\n",
      "('Beth', 40)\n",
      "('Jane', 28)\n",
      "('Gregory', 10)\n"
     ]
    }
   ],
   "source": [
    "# with for\n",
    "\n",
    "for person in persons:\n",
    "    if person[1] > 0:\n",
    "        print(person)"
   ]
  },
  {
   "cell_type": "code",
   "execution_count": 19,
   "id": "a87f5392",
   "metadata": {},
   "outputs": [],
   "source": [
    "#2 with for\n"
   ]
  },
  {
   "cell_type": "code",
   "execution_count": 20,
   "id": "21a96f78",
   "metadata": {},
   "outputs": [],
   "source": [
    "# with while\n"
   ]
  },
  {
   "cell_type": "code",
   "execution_count": 21,
   "id": "3ba498d2",
   "metadata": {},
   "outputs": [
    {
     "name": "stdout",
     "output_type": "stream",
     "text": [
      "<class 'str'>\n"
     ]
    }
   ],
   "source": [
    "print(str)"
   ]
  },
  {
   "cell_type": "markdown",
   "id": "b1523ac7",
   "metadata": {},
   "source": [
    "## range()\n",
    "\n",
    "Функция range генерира поредица от числа. \n",
    "range(stop) - от до stop-1\n",
    "range(start, stop, step) - от start до stop-1 със стъпка step\n",
    "\n",
    "С функции list, tuple, set тази поредица може да се преобразува в списък, кортеж или набор"
   ]
  },
  {
   "cell_type": "markdown",
   "id": "964db740",
   "metadata": {},
   "source": [
    "## Задача 10. Да се съдаде редица от числата от 1 до 10, повдигнати на 2-ра степен"
   ]
  },
  {
   "cell_type": "code",
   "execution_count": 81,
   "id": "b6e833cf",
   "metadata": {},
   "outputs": [
    {
     "name": "stdout",
     "output_type": "stream",
     "text": [
      "2\n",
      "4\n",
      "6\n",
      "8\n",
      "10\n",
      "12\n",
      "14\n",
      "16\n",
      "18\n",
      "20\n"
     ]
    }
   ],
   "source": [
    "for x in range(11):\n",
    "    if x==0:\n",
    "        continue\n",
    "    print(x*2)"
   ]
  },
  {
   "cell_type": "markdown",
   "id": "5319b876",
   "metadata": {},
   "source": [
    "## Задача 11. Да се съдаде списък от числата от 1 до 10, повдигнати на 2-ра степен"
   ]
  },
  {
   "cell_type": "code",
   "execution_count": 89,
   "id": "503d834f",
   "metadata": {},
   "outputs": [
    {
     "name": "stdout",
     "output_type": "stream",
     "text": [
      "[2, 4, 6, 8, 10, 12, 14, 16, 18, 20]\n"
     ]
    }
   ],
   "source": [
    "list = []\n",
    "for x in range(11):\n",
    "    if x==0:\n",
    "        continue\n",
    "    list.append(x*2)\n",
    "print(list)"
   ]
  },
  {
   "cell_type": "code",
   "execution_count": 22,
   "id": "0b76bb2c",
   "metadata": {},
   "outputs": [],
   "source": [
    "# Съкратено записване на for\n"
   ]
  },
  {
   "cell_type": "markdown",
   "id": "46a29b69",
   "metadata": {},
   "source": [
    "## Задача 12. Създайте списък my_list с три елемента, всеки от които е списък с числата от 1 до 10, повдигнати на първа, втора и трета степен"
   ]
  },
  {
   "cell_type": "code",
   "execution_count": 101,
   "id": "53edf380",
   "metadata": {},
   "outputs": [
    {
     "name": "stdout",
     "output_type": "stream",
     "text": [
      "[[1, 2, 3, 4, 5, 6, 7, 8, 9, 10], [1, 4, 9, 16, 25, 36, 49, 64, 81, 100], [1, 8, 27, 64, 125, 216, 343, 512, 729, 1000]]\n"
     ]
    }
   ],
   "source": [
    "# Вариант 1\n",
    "my_list = []\n",
    "list_first = []\n",
    "list_second = []\n",
    "list_third = []\n",
    "for x in range(11):\n",
    "    if x==0:\n",
    "        continue\n",
    "    first = x\n",
    "    second = x**2\n",
    "    third = x**3\n",
    "    list_first.append(first)\n",
    "    list_second.append(second)\n",
    "    list_third.append(third)\n",
    "my_list.append(list_first)\n",
    "my_list.append(list_second)\n",
    "my_list.append(list_third)\n",
    "print(my_list)"
   ]
  },
  {
   "cell_type": "code",
   "execution_count": 24,
   "id": "3c2544da",
   "metadata": {},
   "outputs": [],
   "source": [
    "# Вариант 2\n"
   ]
  },
  {
   "cell_type": "markdown",
   "id": "c118a311",
   "metadata": {},
   "source": [
    "## Задача 13. Изведете с цикъл for сумата от трите елемента на my_list. \n",
    "**List comprehension**"
   ]
  },
  {
   "cell_type": "code",
   "execution_count": 25,
   "id": "b520960b",
   "metadata": {},
   "outputs": [],
   "source": [
    "# Вариант 1\n"
   ]
  },
  {
   "cell_type": "code",
   "execution_count": 26,
   "id": "1bf4a9da",
   "metadata": {},
   "outputs": [],
   "source": [
    "# Вариант 2\n"
   ]
  },
  {
   "cell_type": "code",
   "execution_count": 27,
   "id": "496fa386",
   "metadata": {},
   "outputs": [
    {
     "data": {
      "text/plain": [
       "[[1, 2, 3, 4, 5, 6, 7, 8, 9, 10],\n",
       " [1, 4, 9, 16, 25, 36, 49, 64, 81, 100],\n",
       " [1, 8, 27, 64, 125, 216, 343, 512, 729, 1000]]"
      ]
     },
     "execution_count": 27,
     "metadata": {},
     "output_type": "execute_result"
    }
   ],
   "source": [
    "my_list=[[num for num in range(1,11)],[num**2 for num in range(1,11)],[num**3 for num in range(1,11)]]\n",
    "my_list"
   ]
  },
  {
   "cell_type": "markdown",
   "id": "5aeccc47",
   "metadata": {},
   "source": [
    "# Функции\n",
    "\n",
    "Имената на функциите започват с малки букви. Дефиниране на потребителска функция става с **def** </br>\n",
    "`def my_function(param1,param2,..):\n",
    "    `\n",
    "    \n",
    " Резутатът, който връща функцията, се задава с **return**"
   ]
  },
  {
   "cell_type": "markdown",
   "id": "d29b687c",
   "metadata": {},
   "source": [
    "## Задача 14. Да се дефинира функция pts_grade , която да преобразува точки в оценка съгласно скалата за оценяване в ИУ"
   ]
  },
  {
   "cell_type": "code",
   "execution_count": 28,
   "id": "865ac4ed",
   "metadata": {},
   "outputs": [],
   "source": [
    "#вариант без return\n"
   ]
  },
  {
   "cell_type": "code",
   "execution_count": 29,
   "id": "ac71f742",
   "metadata": {},
   "outputs": [],
   "source": [
    "#вариант с return\n"
   ]
  },
  {
   "cell_type": "code",
   "execution_count": 30,
   "id": "2b0101aa",
   "metadata": {},
   "outputs": [],
   "source": [
    "points = [50,82,37,78,66,100]\n",
    "\n",
    "# Създайте нов списък grades и добавете в него оценките, които съответстват на точките от points"
   ]
  },
  {
   "cell_type": "code",
   "execution_count": 31,
   "id": "15e49cbc",
   "metadata": {},
   "outputs": [],
   "source": [
    "#Вариант 1\n"
   ]
  },
  {
   "cell_type": "code",
   "execution_count": 32,
   "id": "4e8ca944",
   "metadata": {},
   "outputs": [],
   "source": [
    "#Вариант 2\n"
   ]
  },
  {
   "cell_type": "markdown",
   "id": "8568ffdb",
   "metadata": {},
   "source": [
    "## Lambda\n",
    "\n",
    "Функция lambda се използва за дефиниране на малка анонимна функция само с един израз с един или повече аргументи"
   ]
  },
  {
   "cell_type": "code",
   "execution_count": 33,
   "id": "e1495f53",
   "metadata": {},
   "outputs": [],
   "source": [
    "# дефиниране на обикновена именована функция\n",
    "def sum_exp(a):\n",
    "    return a+a**2+a**3"
   ]
  },
  {
   "cell_type": "code",
   "execution_count": 34,
   "id": "9c10fba2",
   "metadata": {},
   "outputs": [
    {
     "data": {
      "text/plain": [
       "<function __main__.<lambda>(a)>"
      ]
     },
     "execution_count": 34,
     "metadata": {},
     "output_type": "execute_result"
    }
   ],
   "source": [
    "# дефиниране на анонимна фунция с един параметър (аргумент)\n",
    "lambda a:a+a**2+a**3"
   ]
  },
  {
   "cell_type": "code",
   "execution_count": 35,
   "id": "b087ac96",
   "metadata": {},
   "outputs": [
    {
     "data": {
      "text/plain": [
       "<function __main__.<lambda>(a, b)>"
      ]
     },
     "execution_count": 35,
     "metadata": {},
     "output_type": "execute_result"
    }
   ],
   "source": [
    "# дефиниране на анонимна фунция с два параметъра (аргумента)\n",
    "lambda a,b: a**b"
   ]
  },
  {
   "cell_type": "markdown",
   "id": "ad569daf",
   "metadata": {},
   "source": [
    "## Map\n",
    "\n",
    "map() създава итератор (map обект) на резултатите след прилагането на дадена функция върху итерируем обект (списък, кортеж и др.) "
   ]
  },
  {
   "cell_type": "code",
   "execution_count": 36,
   "id": "50ae71c9",
   "metadata": {},
   "outputs": [
    {
     "ename": "NameError",
     "evalue": "name 'pts_grade' is not defined",
     "output_type": "error",
     "traceback": [
      "\u001b[1;31m---------------------------------------------------------------------------\u001b[0m",
      "\u001b[1;31mNameError\u001b[0m                                 Traceback (most recent call last)",
      "Cell \u001b[1;32mIn[36], line 1\u001b[0m\n\u001b[1;32m----> 1\u001b[0m \u001b[38;5;28mlist\u001b[39m(\u001b[38;5;28mmap\u001b[39m(pts_grade, points))\n",
      "\u001b[1;31mNameError\u001b[0m: name 'pts_grade' is not defined"
     ]
    }
   ],
   "source": [
    "list(map(pts_grade, points))"
   ]
  },
  {
   "cell_type": "code",
   "execution_count": null,
   "id": "bd78920c",
   "metadata": {},
   "outputs": [],
   "source": [
    "t=list(range(2,22,2))"
   ]
  },
  {
   "cell_type": "code",
   "execution_count": null,
   "id": "08e1cafb",
   "metadata": {},
   "outputs": [],
   "source": [
    "list(map(lambda a:a**2, range(2,22,2)))"
   ]
  },
  {
   "cell_type": "code",
   "execution_count": null,
   "id": "6d985295",
   "metadata": {},
   "outputs": [],
   "source": [
    "list1=[1,8,6,4,3]\n",
    "list2=[2,0,6,5,4]"
   ]
  },
  {
   "cell_type": "markdown",
   "id": "e43c2cb5",
   "metadata": {},
   "source": [
    "## Задача 15. Създайте нов списък, чийто елементи са равни на съответните елементи от list1, подвидгнати на степен, равна на съответен елемент от list2\n"
   ]
  },
  {
   "cell_type": "code",
   "execution_count": null,
   "id": "eed45bfe",
   "metadata": {},
   "outputs": [],
   "source": [
    "# Вариант 1: (with for and range) нов списък, чиито елементи са равни на list1[i] ** list2[i] за всеки i\n",
    "\n"
   ]
  },
  {
   "cell_type": "code",
   "execution_count": null,
   "id": "45056a3a",
   "metadata": {},
   "outputs": [],
   "source": [
    "# Вариант 2 (with map and lambda)\n"
   ]
  },
  {
   "cell_type": "markdown",
   "id": "b8249f0a",
   "metadata": {},
   "source": [
    "## Filter\n",
    "\n",
    "Създава итератор, при който елементите, посочени като аргумент, се филтрират през функция за проверка. "
   ]
  },
  {
   "cell_type": "code",
   "execution_count": null,
   "id": "66912c45",
   "metadata": {},
   "outputs": [],
   "source": [
    "# Пример: Списък от всички четни числа от 0 до 19 вкл.\n"
   ]
  },
  {
   "cell_type": "markdown",
   "id": "c338bb6f",
   "metadata": {},
   "source": [
    "## Задача 16. Използвайте filter и lambda функция, за да филтрирате само текстовите данни"
   ]
  },
  {
   "cell_type": "code",
   "execution_count": null,
   "id": "a7f5a7c1",
   "metadata": {},
   "outputs": [],
   "source": [
    "# Изведете списък само с текстовите данни от списъка. type()==str\n",
    "lst = ['a', 2, 3, 4, 'b', 'd', True, 5, 8]"
   ]
  },
  {
   "cell_type": "code",
   "execution_count": null,
   "id": "7b63d474",
   "metadata": {},
   "outputs": [],
   "source": []
  },
  {
   "cell_type": "markdown",
   "id": "ec50d0d1",
   "metadata": {},
   "source": [
    "## Задача 17. Изведете броя на текстовите данни"
   ]
  },
  {
   "cell_type": "code",
   "execution_count": null,
   "id": "5e3e3afa",
   "metadata": {},
   "outputs": [],
   "source": [
    "# Вариант 1\n"
   ]
  },
  {
   "cell_type": "code",
   "execution_count": null,
   "id": "ea87231b",
   "metadata": {},
   "outputs": [],
   "source": [
    "# Вариант 2\n"
   ]
  },
  {
   "cell_type": "markdown",
   "id": "8fc79852",
   "metadata": {},
   "source": [
    "## Задача 18. Сумирайте всички числа и логически стойности в списъка като използвате filter"
   ]
  },
  {
   "cell_type": "code",
   "execution_count": null,
   "id": "f8f04b7e",
   "metadata": {},
   "outputs": [],
   "source": []
  },
  {
   "cell_type": "markdown",
   "id": "dc2b8e44",
   "metadata": {},
   "source": [
    "## Задача 19. Изведете списък с целите числа от списъка lst, повдигнати на втора степен"
   ]
  },
  {
   "cell_type": "code",
   "execution_count": null,
   "id": "3480cb2d",
   "metadata": {},
   "outputs": [],
   "source": [
    "#Извеждане на списък с числовите стойности\n"
   ]
  },
  {
   "cell_type": "code",
   "execution_count": null,
   "id": "d2af68d1",
   "metadata": {},
   "outputs": [],
   "source": [
    "#Вариант 1 с filter и lambda\n"
   ]
  },
  {
   "cell_type": "code",
   "execution_count": null,
   "id": "dcae92e2",
   "metadata": {},
   "outputs": [],
   "source": [
    "#Вариант 2 с вградена фунция isinstance(): много полезна функция, когато искате да проверите типа на даден обект преди да извършите определени операции с него\n"
   ]
  },
  {
   "cell_type": "markdown",
   "id": "3cfa64f5",
   "metadata": {},
   "source": [
    "# Някои често използвани методи\n",
    "\n",
    "## strings\n",
    "- upper\n",
    "- lower\n",
    "- split\n",
    "\n",
    "str класът предлага множество методи за обработка и манипулиране на низове, като например методи за конкатенация, сравнение, търсене на поднизове, заместване на символи и други.\n",
    "\n",
    "Ето някои от често използваните методи на класа str:\n",
    "\n",
    "- str.upper(): Връща копие на низа с всички символи превърнати в главни.\n",
    "- str.lower(): Връща копие на низа с всички символи превърнати в малки.\n",
    "- str.strip(): Връща копие на низа без празни пространства в началото и в края на низа.\n",
    "- str.split(): Разделя низа на списък от поднизове, като разделител може да се предостави като аргумент.\n",
    "- str.join(): Съединява елементите на подаден списък с низа като разделител."
   ]
  },
  {
   "cell_type": "code",
   "execution_count": null,
   "id": "337c85b4",
   "metadata": {},
   "outputs": [],
   "source": [
    "text=\"Поздравления! Вече сте специалист по 'Изкуствен интелект' #ai\""
   ]
  },
  {
   "cell_type": "markdown",
   "id": "b0bb1424",
   "metadata": {},
   "source": [
    "## Задача 20. Преобразувайте текста само с малки букви"
   ]
  },
  {
   "cell_type": "code",
   "execution_count": null,
   "id": "67fbc397",
   "metadata": {},
   "outputs": [],
   "source": []
  },
  {
   "cell_type": "markdown",
   "id": "f1746f77",
   "metadata": {},
   "source": [
    "## Задача 21. Преобразувайте текста само с главни букви"
   ]
  },
  {
   "cell_type": "code",
   "execution_count": null,
   "id": "9a64293e",
   "metadata": {},
   "outputs": [],
   "source": []
  },
  {
   "cell_type": "markdown",
   "id": "02bc7ab0",
   "metadata": {},
   "source": [
    "## Задача 22. Разделете текста на думи"
   ]
  },
  {
   "cell_type": "code",
   "execution_count": null,
   "id": "7f76523a",
   "metadata": {},
   "outputs": [],
   "source": []
  },
  {
   "cell_type": "markdown",
   "id": "0ec4d682",
   "metadata": {},
   "source": [
    "## Задача 23. Пребройте колко думи има в текста"
   ]
  },
  {
   "cell_type": "code",
   "execution_count": null,
   "id": "4d5ed69e",
   "metadata": {},
   "outputs": [],
   "source": []
  },
  {
   "cell_type": "markdown",
   "id": "fa35bef7",
   "metadata": {},
   "source": [
    "## Задача 24. Изведете хаштага (текста след #)\n"
   ]
  },
  {
   "cell_type": "code",
   "execution_count": null,
   "id": "1ab72b1a",
   "metadata": {},
   "outputs": [],
   "source": []
  },
  {
   "cell_type": "markdown",
   "id": "c333df41",
   "metadata": {},
   "source": [
    "## Задача 25. Колко думи има без да включваме хаштага?"
   ]
  },
  {
   "cell_type": "code",
   "execution_count": null,
   "id": "7ad2063a",
   "metadata": {},
   "outputs": [],
   "source": []
  },
  {
   "cell_type": "code",
   "execution_count": null,
   "id": "2f3f4a76",
   "metadata": {},
   "outputs": [],
   "source": []
  },
  {
   "cell_type": "markdown",
   "id": "f920abd4",
   "metadata": {},
   "source": [
    "## Задача 26. Изведете само съдържанието на хаштаговете в списък"
   ]
  },
  {
   "cell_type": "code",
   "execution_count": null,
   "id": "238164c8",
   "metadata": {},
   "outputs": [],
   "source": [
    "text1 = \"ИУ Варна разкри нова специалност 'Data Science' #uev #data_science #education #best_university\""
   ]
  },
  {
   "cell_type": "code",
   "execution_count": null,
   "id": "f3ae9b57",
   "metadata": {},
   "outputs": [],
   "source": []
  },
  {
   "cell_type": "markdown",
   "id": "abf98889",
   "metadata": {},
   "source": [
    "## lists\n",
    "- .pop() - премахва последния елемент в списък. Може да се посочи и индекс на елемент, който да се премахне\n",
    "- .append() - добавя елемент в списък\n",
    "- .count() - брои колко пъти се среща стойността в списъка\n",
    "- .sort() - сортира елементите в списъка in-place в нарастващ ред по подразбиране. reverse=False - в обратен ред"
   ]
  },
  {
   "cell_type": "code",
   "execution_count": null,
   "id": "0fe9517b",
   "metadata": {},
   "outputs": [],
   "source": [
    "l=[3,5,6,1,0,10,7,4,3]\n"
   ]
  },
  {
   "cell_type": "code",
   "execution_count": null,
   "id": "2d45c703",
   "metadata": {},
   "outputs": [],
   "source": []
  },
  {
   "cell_type": "markdown",
   "id": "e0e35c02",
   "metadata": {},
   "source": [
    "## Dictionaries\n",
    "- .keys()\n",
    "- .items()\n",
    "- .values()"
   ]
  },
  {
   "cell_type": "code",
   "execution_count": null,
   "id": "05a19983",
   "metadata": {},
   "outputs": [],
   "source": [
    "d={'key1': 'item1', 'key2': 'item2'}\n"
   ]
  },
  {
   "cell_type": "code",
   "execution_count": null,
   "id": "7b4b8804",
   "metadata": {},
   "outputs": [],
   "source": []
  },
  {
   "cell_type": "code",
   "execution_count": null,
   "id": "c040292d",
   "metadata": {},
   "outputs": [],
   "source": []
  },
  {
   "cell_type": "code",
   "execution_count": null,
   "id": "2c4171b6",
   "metadata": {},
   "outputs": [],
   "source": []
  }
 ],
 "metadata": {
  "kernelspec": {
   "display_name": "Python 3 (ipykernel)",
   "language": "python",
   "name": "python3"
  },
  "language_info": {
   "codemirror_mode": {
    "name": "ipython",
    "version": 3
   },
   "file_extension": ".py",
   "mimetype": "text/x-python",
   "name": "python",
   "nbconvert_exporter": "python",
   "pygments_lexer": "ipython3",
   "version": "3.11.7"
  }
 },
 "nbformat": 4,
 "nbformat_minor": 5
}
